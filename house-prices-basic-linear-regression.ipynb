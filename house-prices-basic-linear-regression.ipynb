{
 "cells": [
  {
   "cell_type": "markdown",
   "metadata": {
    "papermill": {
     "duration": 0.063851,
     "end_time": "2020-11-28T07:01:07.277285",
     "exception": false,
     "start_time": "2020-11-28T07:01:07.213434",
     "status": "completed"
    },
    "tags": []
   },
   "source": [
    "__Import Necessary Libraries__"
   ]
  },
  {
   "cell_type": "code",
   "execution_count": 9,
   "metadata": {
    "execution": {
     "iopub.execute_input": "2020-11-28T07:01:07.418946Z",
     "iopub.status.busy": "2020-11-28T07:01:07.418025Z",
     "iopub.status.idle": "2020-11-28T07:01:08.904129Z",
     "shell.execute_reply": "2020-11-28T07:01:08.903147Z"
    },
    "papermill": {
     "duration": 1.560605,
     "end_time": "2020-11-28T07:01:08.904296",
     "exception": false,
     "start_time": "2020-11-28T07:01:07.343691",
     "status": "completed"
    },
    "tags": []
   },
   "outputs": [],
   "source": [
    "#Data Manipulation \n",
    "import numpy as np\n",
    "import pandas as pd\n",
    "\n",
    "#Data Visualization \n",
    "import matplotlib.pyplot as plt\n",
    "import seaborn as sns \n",
    "\n",
    "%matplotlib inline"
   ]
  },
  {
   "cell_type": "markdown",
   "metadata": {
    "papermill": {
     "duration": 0.066297,
     "end_time": "2020-11-28T07:01:09.035510",
     "exception": false,
     "start_time": "2020-11-28T07:01:08.969213",
     "status": "completed"
    },
    "tags": []
   },
   "source": [
    "__Read Train and Test Data__ "
   ]
  },
  {
   "cell_type": "code",
   "execution_count": 10,
   "metadata": {
    "execution": {
     "iopub.execute_input": "2020-11-28T07:01:09.177078Z",
     "iopub.status.busy": "2020-11-28T07:01:09.175924Z",
     "iopub.status.idle": "2020-11-28T07:01:09.267575Z",
     "shell.execute_reply": "2020-11-28T07:01:09.268215Z"
    },
    "papermill": {
     "duration": 0.165858,
     "end_time": "2020-11-28T07:01:09.268437",
     "exception": false,
     "start_time": "2020-11-28T07:01:09.102579",
     "status": "completed"
    },
    "tags": []
   },
   "outputs": [],
   "source": [
    "train = pd.read_csv('data/train.csv')\n",
    "test =  pd.read_csv('data/test.csv')"
   ]
  },
  {
   "cell_type": "markdown",
   "metadata": {
    "papermill": {
     "duration": 0.065756,
     "end_time": "2020-11-28T07:01:09.404982",
     "exception": false,
     "start_time": "2020-11-28T07:01:09.339226",
     "status": "completed"
    },
    "tags": []
   },
   "source": [
    "Let’s check out the size of the Data\n",
    "\n",
    "__Train Data__ "
   ]
  },
  {
   "cell_type": "code",
   "execution_count": 11,
   "metadata": {
    "execution": {
     "iopub.execute_input": "2020-11-28T07:01:09.545330Z",
     "iopub.status.busy": "2020-11-28T07:01:09.544468Z",
     "iopub.status.idle": "2020-11-28T07:01:09.551019Z",
     "shell.execute_reply": "2020-11-28T07:01:09.549967Z"
    },
    "papermill": {
     "duration": 0.079848,
     "end_time": "2020-11-28T07:01:09.551173",
     "exception": false,
     "start_time": "2020-11-28T07:01:09.471325",
     "status": "completed"
    },
    "tags": []
   },
   "outputs": [
    {
     "name": "stdout",
     "output_type": "stream",
     "text": [
      "Train data shape  (1460, 81)\n"
     ]
    }
   ],
   "source": [
    "print(\"Train data shape \",train.shape)"
   ]
  },
  {
   "cell_type": "markdown",
   "metadata": {
    "papermill": {
     "duration": 0.070081,
     "end_time": "2020-11-28T07:01:09.690448",
     "exception": false,
     "start_time": "2020-11-28T07:01:09.620367",
     "status": "completed"
    },
    "tags": []
   },
   "source": [
    "__Test Data__"
   ]
  },
  {
   "cell_type": "code",
   "execution_count": 12,
   "metadata": {
    "execution": {
     "iopub.execute_input": "2020-11-28T07:01:09.839376Z",
     "iopub.status.busy": "2020-11-28T07:01:09.838446Z",
     "iopub.status.idle": "2020-11-28T07:01:09.841916Z",
     "shell.execute_reply": "2020-11-28T07:01:09.842735Z"
    },
    "papermill": {
     "duration": 0.081561,
     "end_time": "2020-11-28T07:01:09.842925",
     "exception": false,
     "start_time": "2020-11-28T07:01:09.761364",
     "status": "completed"
    },
    "tags": []
   },
   "outputs": [
    {
     "name": "stdout",
     "output_type": "stream",
     "text": [
      "Test data shape  (1459, 80)\n"
     ]
    }
   ],
   "source": [
    "print(\"Test data shape \",test.shape)"
   ]
  },
  {
   "cell_type": "markdown",
   "metadata": {
    "papermill": {
     "duration": 0.0681,
     "end_time": "2020-11-28T07:01:09.977302",
     "exception": false,
     "start_time": "2020-11-28T07:01:09.909202",
     "status": "completed"
    },
    "tags": []
   },
   "source": [
    "Note we have one less column in test data set as compared to train i.e Sales Price "
   ]
  },
  {
   "cell_type": "code",
   "execution_count": 5,
   "metadata": {
    "execution": {
     "iopub.execute_input": "2020-11-28T07:01:10.150158Z",
     "iopub.status.busy": "2020-11-28T07:01:10.149125Z",
     "iopub.status.idle": "2020-11-28T07:01:10.169310Z",
     "shell.execute_reply": "2020-11-28T07:01:10.168344Z"
    },
    "papermill": {
     "duration": 0.12298,
     "end_time": "2020-11-28T07:01:10.169496",
     "exception": false,
     "start_time": "2020-11-28T07:01:10.046516",
     "status": "completed"
    },
    "tags": []
   },
   "outputs": [
    {
     "data": {
      "text/html": [
       "<div>\n",
       "<style scoped>\n",
       "    .dataframe tbody tr th:only-of-type {\n",
       "        vertical-align: middle;\n",
       "    }\n",
       "\n",
       "    .dataframe tbody tr th {\n",
       "        vertical-align: top;\n",
       "    }\n",
       "\n",
       "    .dataframe thead th {\n",
       "        text-align: right;\n",
       "    }\n",
       "</style>\n",
       "<table border=\"1\" class=\"dataframe\">\n",
       "  <thead>\n",
       "    <tr style=\"text-align: right;\">\n",
       "      <th></th>\n",
       "      <th>Id</th>\n",
       "      <th>MSSubClass</th>\n",
       "      <th>MSZoning</th>\n",
       "      <th>LotFrontage</th>\n",
       "      <th>LotArea</th>\n",
       "      <th>Street</th>\n",
       "      <th>Alley</th>\n",
       "      <th>LotShape</th>\n",
       "      <th>LandContour</th>\n",
       "      <th>Utilities</th>\n",
       "      <th>...</th>\n",
       "      <th>PoolArea</th>\n",
       "      <th>PoolQC</th>\n",
       "      <th>Fence</th>\n",
       "      <th>MiscFeature</th>\n",
       "      <th>MiscVal</th>\n",
       "      <th>MoSold</th>\n",
       "      <th>YrSold</th>\n",
       "      <th>SaleType</th>\n",
       "      <th>SaleCondition</th>\n",
       "      <th>SalePrice</th>\n",
       "    </tr>\n",
       "  </thead>\n",
       "  <tbody>\n",
       "    <tr>\n",
       "      <th>0</th>\n",
       "      <td>1</td>\n",
       "      <td>60</td>\n",
       "      <td>RL</td>\n",
       "      <td>65.0</td>\n",
       "      <td>8450</td>\n",
       "      <td>Pave</td>\n",
       "      <td>NaN</td>\n",
       "      <td>Reg</td>\n",
       "      <td>Lvl</td>\n",
       "      <td>AllPub</td>\n",
       "      <td>...</td>\n",
       "      <td>0</td>\n",
       "      <td>NaN</td>\n",
       "      <td>NaN</td>\n",
       "      <td>NaN</td>\n",
       "      <td>0</td>\n",
       "      <td>2</td>\n",
       "      <td>2008</td>\n",
       "      <td>WD</td>\n",
       "      <td>Normal</td>\n",
       "      <td>208500</td>\n",
       "    </tr>\n",
       "    <tr>\n",
       "      <th>1</th>\n",
       "      <td>2</td>\n",
       "      <td>20</td>\n",
       "      <td>RL</td>\n",
       "      <td>80.0</td>\n",
       "      <td>9600</td>\n",
       "      <td>Pave</td>\n",
       "      <td>NaN</td>\n",
       "      <td>Reg</td>\n",
       "      <td>Lvl</td>\n",
       "      <td>AllPub</td>\n",
       "      <td>...</td>\n",
       "      <td>0</td>\n",
       "      <td>NaN</td>\n",
       "      <td>NaN</td>\n",
       "      <td>NaN</td>\n",
       "      <td>0</td>\n",
       "      <td>5</td>\n",
       "      <td>2007</td>\n",
       "      <td>WD</td>\n",
       "      <td>Normal</td>\n",
       "      <td>181500</td>\n",
       "    </tr>\n",
       "    <tr>\n",
       "      <th>2</th>\n",
       "      <td>3</td>\n",
       "      <td>60</td>\n",
       "      <td>RL</td>\n",
       "      <td>68.0</td>\n",
       "      <td>11250</td>\n",
       "      <td>Pave</td>\n",
       "      <td>NaN</td>\n",
       "      <td>IR1</td>\n",
       "      <td>Lvl</td>\n",
       "      <td>AllPub</td>\n",
       "      <td>...</td>\n",
       "      <td>0</td>\n",
       "      <td>NaN</td>\n",
       "      <td>NaN</td>\n",
       "      <td>NaN</td>\n",
       "      <td>0</td>\n",
       "      <td>9</td>\n",
       "      <td>2008</td>\n",
       "      <td>WD</td>\n",
       "      <td>Normal</td>\n",
       "      <td>223500</td>\n",
       "    </tr>\n",
       "    <tr>\n",
       "      <th>3</th>\n",
       "      <td>4</td>\n",
       "      <td>70</td>\n",
       "      <td>RL</td>\n",
       "      <td>60.0</td>\n",
       "      <td>9550</td>\n",
       "      <td>Pave</td>\n",
       "      <td>NaN</td>\n",
       "      <td>IR1</td>\n",
       "      <td>Lvl</td>\n",
       "      <td>AllPub</td>\n",
       "      <td>...</td>\n",
       "      <td>0</td>\n",
       "      <td>NaN</td>\n",
       "      <td>NaN</td>\n",
       "      <td>NaN</td>\n",
       "      <td>0</td>\n",
       "      <td>2</td>\n",
       "      <td>2006</td>\n",
       "      <td>WD</td>\n",
       "      <td>Abnorml</td>\n",
       "      <td>140000</td>\n",
       "    </tr>\n",
       "    <tr>\n",
       "      <th>4</th>\n",
       "      <td>5</td>\n",
       "      <td>60</td>\n",
       "      <td>RL</td>\n",
       "      <td>84.0</td>\n",
       "      <td>14260</td>\n",
       "      <td>Pave</td>\n",
       "      <td>NaN</td>\n",
       "      <td>IR1</td>\n",
       "      <td>Lvl</td>\n",
       "      <td>AllPub</td>\n",
       "      <td>...</td>\n",
       "      <td>0</td>\n",
       "      <td>NaN</td>\n",
       "      <td>NaN</td>\n",
       "      <td>NaN</td>\n",
       "      <td>0</td>\n",
       "      <td>12</td>\n",
       "      <td>2008</td>\n",
       "      <td>WD</td>\n",
       "      <td>Normal</td>\n",
       "      <td>250000</td>\n",
       "    </tr>\n",
       "  </tbody>\n",
       "</table>\n",
       "<p>5 rows × 81 columns</p>\n",
       "</div>"
      ],
      "text/plain": [
       "   Id  MSSubClass MSZoning  LotFrontage  LotArea Street Alley LotShape  \\\n",
       "0   1          60       RL         65.0     8450   Pave   NaN      Reg   \n",
       "1   2          20       RL         80.0     9600   Pave   NaN      Reg   \n",
       "2   3          60       RL         68.0    11250   Pave   NaN      IR1   \n",
       "3   4          70       RL         60.0     9550   Pave   NaN      IR1   \n",
       "4   5          60       RL         84.0    14260   Pave   NaN      IR1   \n",
       "\n",
       "  LandContour Utilities  ... PoolArea PoolQC Fence MiscFeature MiscVal MoSold  \\\n",
       "0         Lvl    AllPub  ...        0    NaN   NaN         NaN       0      2   \n",
       "1         Lvl    AllPub  ...        0    NaN   NaN         NaN       0      5   \n",
       "2         Lvl    AllPub  ...        0    NaN   NaN         NaN       0      9   \n",
       "3         Lvl    AllPub  ...        0    NaN   NaN         NaN       0      2   \n",
       "4         Lvl    AllPub  ...        0    NaN   NaN         NaN       0     12   \n",
       "\n",
       "  YrSold  SaleType  SaleCondition  SalePrice  \n",
       "0   2008        WD         Normal     208500  \n",
       "1   2007        WD         Normal     181500  \n",
       "2   2008        WD         Normal     223500  \n",
       "3   2006        WD        Abnorml     140000  \n",
       "4   2008        WD         Normal     250000  \n",
       "\n",
       "[5 rows x 81 columns]"
      ]
     },
     "execution_count": 5,
     "metadata": {},
     "output_type": "execute_result"
    }
   ],
   "source": [
    "train.head()"
   ]
  },
  {
   "cell_type": "code",
   "execution_count": 6,
   "metadata": {
    "execution": {
     "iopub.execute_input": "2020-11-28T07:01:10.314154Z",
     "iopub.status.busy": "2020-11-28T07:01:10.313297Z",
     "iopub.status.idle": "2020-11-28T07:01:10.317260Z",
     "shell.execute_reply": "2020-11-28T07:01:10.317856Z"
    },
    "papermill": {
     "duration": 0.079853,
     "end_time": "2020-11-28T07:01:10.318047",
     "exception": false,
     "start_time": "2020-11-28T07:01:10.238194",
     "status": "completed"
    },
    "tags": []
   },
   "outputs": [],
   "source": [
    "plt.style.use(style='ggplot')\n",
    "plt.rcParams['figure.figsize'] = (10, 6)"
   ]
  },
  {
   "cell_type": "markdown",
   "metadata": {
    "papermill": {
     "duration": 0.066705,
     "end_time": "2020-11-28T07:01:10.451321",
     "exception": false,
     "start_time": "2020-11-28T07:01:10.384616",
     "status": "completed"
    },
    "tags": []
   },
   "source": [
    "#### Exploring Sales Data "
   ]
  },
  {
   "cell_type": "code",
   "execution_count": 7,
   "metadata": {
    "execution": {
     "iopub.execute_input": "2020-11-28T07:01:10.591631Z",
     "iopub.status.busy": "2020-11-28T07:01:10.590488Z",
     "iopub.status.idle": "2020-11-28T07:01:10.601249Z",
     "shell.execute_reply": "2020-11-28T07:01:10.600444Z"
    },
    "papermill": {
     "duration": 0.084572,
     "end_time": "2020-11-28T07:01:10.601397",
     "exception": false,
     "start_time": "2020-11-28T07:01:10.516825",
     "status": "completed"
    },
    "tags": []
   },
   "outputs": [
    {
     "data": {
      "text/plain": [
       "count      1460.000000\n",
       "mean     180921.195890\n",
       "std       79442.502883\n",
       "min       34900.000000\n",
       "25%      129975.000000\n",
       "50%      163000.000000\n",
       "75%      214000.000000\n",
       "max      755000.000000\n",
       "Name: SalePrice, dtype: float64"
      ]
     },
     "execution_count": 7,
     "metadata": {},
     "output_type": "execute_result"
    }
   ],
   "source": [
    "train.SalePrice.describe()"
   ]
  },
  {
   "cell_type": "markdown",
   "metadata": {
    "papermill": {
     "duration": 0.065798,
     "end_time": "2020-11-28T07:01:10.735554",
     "exception": false,
     "start_time": "2020-11-28T07:01:10.669756",
     "status": "completed"
    },
    "tags": []
   },
   "source": [
    "Lets Check Skewness in dataset "
   ]
  },
  {
   "cell_type": "code",
   "execution_count": 8,
   "metadata": {
    "execution": {
     "iopub.execute_input": "2020-11-28T07:01:10.871225Z",
     "iopub.status.busy": "2020-11-28T07:01:10.870421Z",
     "iopub.status.idle": "2020-11-28T07:01:11.154068Z",
     "shell.execute_reply": "2020-11-28T07:01:11.153125Z"
    },
    "papermill": {
     "duration": 0.354199,
     "end_time": "2020-11-28T07:01:11.154212",
     "exception": false,
     "start_time": "2020-11-28T07:01:10.800013",
     "status": "completed"
    },
    "tags": []
   },
   "outputs": [
    {
     "name": "stdout",
     "output_type": "stream",
     "text": [
      "Skew is :  1.8828757597682129\n"
     ]
    },
    {
     "data": {
      "text/plain": [
       "[]"
      ]
     },
     "execution_count": 8,
     "metadata": {},
     "output_type": "execute_result"
    },
    {
     "data": {
      "image/png": "[encoded data removed]",
      "text/plain": [
       "<Figure size 720x432 with 1 Axes>"
      ]
     },
     "metadata": {},
     "output_type": "display_data"
    }
   ],
   "source": [
    "print(\"Skew is : \",train.SalePrice.skew())\n",
    "plt.hist(train.SalePrice,color='blue')\n",
    "plt.plot()"
   ]
  },
  {
   "cell_type": "markdown",
   "metadata": {
    "papermill": {
     "duration": 0.085729,
     "end_time": "2020-11-28T07:01:11.313230",
     "exception": false,
     "start_time": "2020-11-28T07:01:11.227501",
     "status": "completed"
    },
    "tags": []
   },
   "source": [
    "Now lets try using np.log to transform  train.SalesPrice calculate the skewness a second time, as well as re-plot the data. A value closer to 0 means that we have improved the skewness of the data. We can see visually that the data will more resembles a normal distribution."
   ]
  },
  {
   "cell_type": "code",
   "execution_count": 9,
   "metadata": {
    "execution": {
     "iopub.execute_input": "2020-11-28T07:01:11.475658Z",
     "iopub.status.busy": "2020-11-28T07:01:11.474578Z",
     "iopub.status.idle": "2020-11-28T07:01:11.479262Z",
     "shell.execute_reply": "2020-11-28T07:01:11.478333Z"
    },
    "papermill": {
     "duration": 0.091966,
     "end_time": "2020-11-28T07:01:11.479419",
     "exception": false,
     "start_time": "2020-11-28T07:01:11.387453",
     "status": "completed"
    },
    "tags": []
   },
   "outputs": [],
   "source": [
    "target=np.log(train.SalePrice)"
   ]
  },
  {
   "cell_type": "code",
   "execution_count": 10,
   "metadata": {
    "execution": {
     "iopub.execute_input": "2020-11-28T07:01:11.628687Z",
     "iopub.status.busy": "2020-11-28T07:01:11.627737Z",
     "iopub.status.idle": "2020-11-28T07:01:11.633115Z",
     "shell.execute_reply": "2020-11-28T07:01:11.633676Z"
    },
    "papermill": {
     "duration": 0.080413,
     "end_time": "2020-11-28T07:01:11.633870",
     "exception": false,
     "start_time": "2020-11-28T07:01:11.553457",
     "status": "completed"
    },
    "tags": []
   },
   "outputs": [
    {
     "name": "stdout",
     "output_type": "stream",
     "text": [
      "Skew is :  0.12133506220520406\n"
     ]
    }
   ],
   "source": [
    "print(\"Skew is : \",target.skew())"
   ]
  },
  {
   "cell_type": "code",
   "execution_count": 11,
   "metadata": {
    "execution": {
     "iopub.execute_input": "2020-11-28T07:01:11.794690Z",
     "iopub.status.busy": "2020-11-28T07:01:11.784148Z",
     "iopub.status.idle": "2020-11-28T07:01:12.006584Z",
     "shell.execute_reply": "2020-11-28T07:01:12.007162Z"
    },
    "papermill": {
     "duration": 0.302287,
     "end_time": "2020-11-28T07:01:12.007334",
     "exception": false,
     "start_time": "2020-11-28T07:01:11.705047",
     "status": "completed"
    },
    "tags": []
   },
   "outputs": [
    {
     "data": {
      "text/plain": [
       "[]"
      ]
     },
     "execution_count": 11,
     "metadata": {},
     "output_type": "execute_result"
    },
    {
     "data": {
      "image/png": "[encoded data removed]",
      "text/plain": [
       "<Figure size 720x432 with 1 Axes>"
      ]
     },
     "metadata": {},
     "output_type": "display_data"
    }
   ],
   "source": [
    "plt.hist(target,color='green')\n",
    "plt.plot()"
   ]
  },
  {
   "cell_type": "markdown",
   "metadata": {
    "papermill": {
     "duration": 0.073048,
     "end_time": "2020-11-28T07:01:12.158315",
     "exception": false,
     "start_time": "2020-11-28T07:01:12.085267",
     "status": "completed"
    },
    "tags": []
   },
   "source": [
    "Now that we’ve transformed the target variable, let’s consider our features. First, we’ll check out the numerical features and make some plots. The .select_dtypes() method will return a subset of columns matching the specified data types."
   ]
  },
  {
   "cell_type": "code",
   "execution_count": 12,
   "metadata": {
    "execution": {
     "iopub.execute_input": "2020-11-28T07:01:12.311473Z",
     "iopub.status.busy": "2020-11-28T07:01:12.310392Z",
     "iopub.status.idle": "2020-11-28T07:01:12.315735Z",
     "shell.execute_reply": "2020-11-28T07:01:12.316368Z"
    },
    "papermill": {
     "duration": 0.088685,
     "end_time": "2020-11-28T07:01:12.316552",
     "exception": false,
     "start_time": "2020-11-28T07:01:12.227867",
     "status": "completed"
    },
    "tags": []
   },
   "outputs": [
    {
     "data": {
      "text/plain": [
       "Id                 int64\n",
       "MSSubClass         int64\n",
       "LotFrontage      float64\n",
       "LotArea            int64\n",
       "OverallQual        int64\n",
       "OverallCond        int64\n",
       "YearBuilt          int64\n",
       "YearRemodAdd       int64\n",
       "MasVnrArea       float64\n",
       "BsmtFinSF1         int64\n",
       "BsmtFinSF2         int64\n",
       "BsmtUnfSF          int64\n",
       "TotalBsmtSF        int64\n",
       "1stFlrSF           int64\n",
       "2ndFlrSF           int64\n",
       "LowQualFinSF       int64\n",
       "GrLivArea          int64\n",
       "BsmtFullBath       int64\n",
       "BsmtHalfBath       int64\n",
       "FullBath           int64\n",
       "HalfBath           int64\n",
       "BedroomAbvGr       int64\n",
       "KitchenAbvGr       int64\n",
       "TotRmsAbvGrd       int64\n",
       "Fireplaces         int64\n",
       "GarageYrBlt      float64\n",
       "GarageCars         int64\n",
       "GarageArea         int64\n",
       "WoodDeckSF         int64\n",
       "OpenPorchSF        int64\n",
       "EnclosedPorch      int64\n",
       "3SsnPorch          int64\n",
       "ScreenPorch        int64\n",
       "PoolArea           int64\n",
       "MiscVal            int64\n",
       "MoSold             int64\n",
       "YrSold             int64\n",
       "SalePrice          int64\n",
       "dtype: object"
      ]
     },
     "execution_count": 12,
     "metadata": {},
     "output_type": "execute_result"
    }
   ],
   "source": [
    "numeric_features = train.select_dtypes(include=[np.number])\n",
    "numeric_features.dtypes"
   ]
  },
  {
   "cell_type": "markdown",
   "metadata": {
    "papermill": {
     "duration": 0.070099,
     "end_time": "2020-11-28T07:01:12.459084",
     "exception": false,
     "start_time": "2020-11-28T07:01:12.388985",
     "status": "completed"
    },
    "tags": []
   },
   "source": [
    "The DataFrame.corr() method displays the correlation (or relationship) between the columns. We’ll examine the correlations between the features and the target."
   ]
  },
  {
   "cell_type": "code",
   "execution_count": 13,
   "metadata": {
    "execution": {
     "iopub.execute_input": "2020-11-28T07:01:12.610590Z",
     "iopub.status.busy": "2020-11-28T07:01:12.609801Z",
     "iopub.status.idle": "2020-11-28T07:01:12.625973Z",
     "shell.execute_reply": "2020-11-28T07:01:12.626847Z"
    },
    "papermill": {
     "duration": 0.091628,
     "end_time": "2020-11-28T07:01:12.627057",
     "exception": false,
     "start_time": "2020-11-28T07:01:12.535429",
     "status": "completed"
    },
    "tags": []
   },
   "outputs": [
    {
     "name": "stdout",
     "output_type": "stream",
     "text": [
      "SalePrice      1.000000\n",
      "OverallQual    0.790982\n",
      "GrLivArea      0.708624\n",
      "GarageCars     0.640409\n",
      "GarageArea     0.623431\n",
      "Name: SalePrice, dtype: float64\n",
      "YrSold          -0.028923\n",
      "OverallCond     -0.077856\n",
      "MSSubClass      -0.084284\n",
      "EnclosedPorch   -0.128578\n",
      "KitchenAbvGr    -0.135907\n",
      "Name: SalePrice, dtype: float64\n"
     ]
    }
   ],
   "source": [
    "corr=numeric_features.corr()\n",
    "print(corr['SalePrice'].sort_values(ascending=False)[:5])\n",
    "print(corr['SalePrice'].sort_values(ascending=False)[-5:])"
   ]
  },
  {
   "cell_type": "markdown",
   "metadata": {
    "papermill": {
     "duration": 0.074341,
     "end_time": "2020-11-28T07:01:12.776094",
     "exception": false,
     "start_time": "2020-11-28T07:01:12.701753",
     "status": "completed"
    },
    "tags": []
   },
   "source": [
    "The first five features are the most positively correlated with SalePrice, while the next five are the most negatively correlated.\n",
    "\n",
    "Let’s dig deeper on OverallQual. We can use the .unique() method to get the unique values."
   ]
  },
  {
   "cell_type": "code",
   "execution_count": 14,
   "metadata": {
    "execution": {
     "iopub.execute_input": "2020-11-28T07:01:12.926458Z",
     "iopub.status.busy": "2020-11-28T07:01:12.925197Z",
     "iopub.status.idle": "2020-11-28T07:01:12.929242Z",
     "shell.execute_reply": "2020-11-28T07:01:12.929895Z"
    },
    "papermill": {
     "duration": 0.081593,
     "end_time": "2020-11-28T07:01:12.930075",
     "exception": false,
     "start_time": "2020-11-28T07:01:12.848482",
     "status": "completed"
    },
    "tags": []
   },
   "outputs": [
    {
     "data": {
      "text/plain": [
       "array([ 7,  6,  8,  5,  9,  4, 10,  3,  1,  2])"
      ]
     },
     "execution_count": 14,
     "metadata": {},
     "output_type": "execute_result"
    }
   ],
   "source": [
    "train.OverallQual.unique()"
   ]
  },
  {
   "cell_type": "markdown",
   "metadata": {
    "papermill": {
     "duration": 0.070247,
     "end_time": "2020-11-28T07:01:13.076267",
     "exception": false,
     "start_time": "2020-11-28T07:01:13.006020",
     "status": "completed"
    },
    "tags": []
   },
   "source": [
    "The OverallQual data are integer values in the interval 1 to 10 inclusive.\n",
    "\n",
    "We can create a pivot table to further investigate the relationship between OverallQual and SalePrice. The Pandas docs demonstrate how to accomplish this task. We set index='OverallQual' and values='SalePrice'. We chose to look at the median here."
   ]
  },
  {
   "cell_type": "code",
   "execution_count": 15,
   "metadata": {
    "execution": {
     "iopub.execute_input": "2020-11-28T07:01:13.242785Z",
     "iopub.status.busy": "2020-11-28T07:01:13.241082Z",
     "iopub.status.idle": "2020-11-28T07:01:13.270962Z",
     "shell.execute_reply": "2020-11-28T07:01:13.270092Z"
    },
    "papermill": {
     "duration": 0.117878,
     "end_time": "2020-11-28T07:01:13.271099",
     "exception": false,
     "start_time": "2020-11-28T07:01:13.153221",
     "status": "completed"
    },
    "tags": []
   },
   "outputs": [],
   "source": [
    "quality_pivot=train.pivot_table(index='OverallQual',values='SalePrice',aggfunc=np.median)"
   ]
  },
  {
   "cell_type": "code",
   "execution_count": 16,
   "metadata": {
    "execution": {
     "iopub.execute_input": "2020-11-28T07:01:13.434280Z",
     "iopub.status.busy": "2020-11-28T07:01:13.433222Z",
     "iopub.status.idle": "2020-11-28T07:01:13.438200Z",
     "shell.execute_reply": "2020-11-28T07:01:13.437450Z"
    },
    "papermill": {
     "duration": 0.091713,
     "end_time": "2020-11-28T07:01:13.438322",
     "exception": false,
     "start_time": "2020-11-28T07:01:13.346609",
     "status": "completed"
    },
    "tags": []
   },
   "outputs": [
    {
     "data": {
      "text/html": [
       "<div>\n",
       "<style scoped>\n",
       "    .dataframe tbody tr th:only-of-type {\n",
       "        vertical-align: middle;\n",
       "    }\n",
       "\n",
       "    .dataframe tbody tr th {\n",
       "        vertical-align: top;\n",
       "    }\n",
       "\n",
       "    .dataframe thead th {\n",
       "        text-align: right;\n",
       "    }\n",
       "</style>\n",
       "<table border=\"1\" class=\"dataframe\">\n",
       "  <thead>\n",
       "    <tr style=\"text-align: right;\">\n",
       "      <th></th>\n",
       "      <th>SalePrice</th>\n",
       "    </tr>\n",
       "    <tr>\n",
       "      <th>OverallQual</th>\n",
       "      <th></th>\n",
       "    </tr>\n",
       "  </thead>\n",
       "  <tbody>\n",
       "    <tr>\n",
       "      <th>1</th>\n",
       "      <td>50150</td>\n",
       "    </tr>\n",
       "    <tr>\n",
       "      <th>2</th>\n",
       "      <td>60000</td>\n",
       "    </tr>\n",
       "    <tr>\n",
       "      <th>3</th>\n",
       "      <td>86250</td>\n",
       "    </tr>\n",
       "    <tr>\n",
       "      <th>4</th>\n",
       "      <td>108000</td>\n",
       "    </tr>\n",
       "    <tr>\n",
       "      <th>5</th>\n",
       "      <td>133000</td>\n",
       "    </tr>\n",
       "    <tr>\n",
       "      <th>6</th>\n",
       "      <td>160000</td>\n",
       "    </tr>\n",
       "    <tr>\n",
       "      <th>7</th>\n",
       "      <td>200141</td>\n",
       "    </tr>\n",
       "    <tr>\n",
       "      <th>8</th>\n",
       "      <td>269750</td>\n",
       "    </tr>\n",
       "    <tr>\n",
       "      <th>9</th>\n",
       "      <td>345000</td>\n",
       "    </tr>\n",
       "    <tr>\n",
       "      <th>10</th>\n",
       "      <td>432390</td>\n",
       "    </tr>\n",
       "  </tbody>\n",
       "</table>\n",
       "</div>"
      ],
      "text/plain": [
       "             SalePrice\n",
       "OverallQual           \n",
       "1                50150\n",
       "2                60000\n",
       "3                86250\n",
       "4               108000\n",
       "5               133000\n",
       "6               160000\n",
       "7               200141\n",
       "8               269750\n",
       "9               345000\n",
       "10              432390"
      ]
     },
     "execution_count": 16,
     "metadata": {},
     "output_type": "execute_result"
    }
   ],
   "source": [
    "quality_pivot"
   ]
  },
  {
   "cell_type": "code",
   "execution_count": 17,
   "metadata": {
    "execution": {
     "iopub.execute_input": "2020-11-28T07:01:13.600344Z",
     "iopub.status.busy": "2020-11-28T07:01:13.599487Z",
     "iopub.status.idle": "2020-11-28T07:01:13.847109Z",
     "shell.execute_reply": "2020-11-28T07:01:13.846286Z"
    },
    "papermill": {
     "duration": 0.330231,
     "end_time": "2020-11-28T07:01:13.847264",
     "exception": false,
     "start_time": "2020-11-28T07:01:13.517033",
     "status": "completed"
    },
    "tags": []
   },
   "outputs": [
    {
     "data": {
      "image/png": "[encoded data removed]",
      "text/plain": [
       "<Figure size 720x432 with 1 Axes>"
      ]
     },
     "metadata": {},
     "output_type": "display_data"
    }
   ],
   "source": [
    "quality_pivot.plot(kind='bar',color='lightgreen')\n",
    "plt.xlabel('Overall Quality')\n",
    "plt.ylabel('Median Sale Price')\n",
    "plt.xticks(rotation=0)\n",
    "plt.show()"
   ]
  },
  {
   "cell_type": "markdown",
   "metadata": {
    "papermill": {
     "duration": 0.073451,
     "end_time": "2020-11-28T07:01:13.992535",
     "exception": false,
     "start_time": "2020-11-28T07:01:13.919084",
     "status": "completed"
    },
    "tags": []
   },
   "source": [
    "Notice that the median sales price strictly increases as Overall Quality increases.\n",
    "\n",
    "Next, let’s use plt.scatter() to generate some scatter plots and visualize the relationship between the Ground Living Area GrLivArea and SalePrice."
   ]
  },
  {
   "cell_type": "code",
   "execution_count": 18,
   "metadata": {
    "execution": {
     "iopub.execute_input": "2020-11-28T07:01:14.151977Z",
     "iopub.status.busy": "2020-11-28T07:01:14.142382Z",
     "iopub.status.idle": "2020-11-28T07:01:14.355332Z",
     "shell.execute_reply": "2020-11-28T07:01:14.356050Z"
    },
    "papermill": {
     "duration": 0.292911,
     "end_time": "2020-11-28T07:01:14.356264",
     "exception": false,
     "start_time": "2020-11-28T07:01:14.063353",
     "status": "completed"
    },
    "tags": []
   },
   "outputs": [
    {
     "data": {
      "text/plain": [
       "<matplotlib.collections.PathCollection at 0x7ff4a426b8d0>"
      ]
     },
     "execution_count": 18,
     "metadata": {},
     "output_type": "execute_result"
    },
    {
     "data": {
      "image/png": "[encoded data removed]",
      "text/plain": [
       "<Figure size 720x432 with 1 Axes>"
      ]
     },
     "metadata": {},
     "output_type": "display_data"
    }
   ],
   "source": [
    "plt.scatter(train['GrLivArea'],target,color='green')"
   ]
  },
  {
   "cell_type": "markdown",
   "metadata": {
    "papermill": {
     "duration": 0.074201,
     "end_time": "2020-11-28T07:01:14.504578",
     "exception": false,
     "start_time": "2020-11-28T07:01:14.430377",
     "status": "completed"
    },
    "tags": []
   },
   "source": [
    "At first glance, we see that increases in living area correspond to increases in price. We will do the same for GarageArea."
   ]
  },
  {
   "cell_type": "code",
   "execution_count": 19,
   "metadata": {
    "execution": {
     "iopub.execute_input": "2020-11-28T07:01:14.664942Z",
     "iopub.status.busy": "2020-11-28T07:01:14.660330Z",
     "iopub.status.idle": "2020-11-28T07:01:14.993510Z",
     "shell.execute_reply": "2020-11-28T07:01:14.992739Z"
    },
    "papermill": {
     "duration": 0.413754,
     "end_time": "2020-11-28T07:01:14.993723",
     "exception": false,
     "start_time": "2020-11-28T07:01:14.579969",
     "status": "completed"
    },
    "tags": []
   },
   "outputs": [
    {
     "data": {
      "text/plain": [
       "<matplotlib.collections.PathCollection at 0x7ff4a426b810>"
      ]
     },
     "execution_count": 19,
     "metadata": {},
     "output_type": "execute_result"
    },
    {
     "data": {
      "image/png": "[encoded data removed]",
      "text/plain": [
       "<Figure size 720x432 with 1 Axes>"
      ]
     },
     "metadata": {},
     "output_type": "display_data"
    }
   ],
   "source": [
    "plt.scatter(train['GarageArea'],target,color='green')"
   ]
  },
  {
   "cell_type": "markdown",
   "metadata": {
    "papermill": {
     "duration": 0.080186,
     "end_time": "2020-11-28T07:01:15.209767",
     "exception": false,
     "start_time": "2020-11-28T07:01:15.129581",
     "status": "completed"
    },
    "tags": []
   },
   "source": [
    "Notice that there are many homes with 0 for Garage Area, indicating that they don’t have a garage. We’ll transform other features later to reflect this assumption. There are a few outliers as well. Outliers can affect a regression model by pulling our estimated regression line further away from the true population regression line. So, we’ll remove those observations from our data. "
   ]
  },
  {
   "cell_type": "code",
   "execution_count": 20,
   "metadata": {
    "execution": {
     "iopub.execute_input": "2020-11-28T07:01:15.376911Z",
     "iopub.status.busy": "2020-11-28T07:01:15.375624Z",
     "iopub.status.idle": "2020-11-28T07:01:15.379240Z",
     "shell.execute_reply": "2020-11-28T07:01:15.378600Z"
    },
    "papermill": {
     "duration": 0.092125,
     "end_time": "2020-11-28T07:01:15.379387",
     "exception": false,
     "start_time": "2020-11-28T07:01:15.287262",
     "status": "completed"
    },
    "tags": []
   },
   "outputs": [],
   "source": [
    "train=train[train['GarageArea']<1200]"
   ]
  },
  {
   "cell_type": "code",
   "execution_count": 21,
   "metadata": {
    "execution": {
     "iopub.execute_input": "2020-11-28T07:01:15.548520Z",
     "iopub.status.busy": "2020-11-28T07:01:15.547071Z",
     "iopub.status.idle": "2020-11-28T07:01:15.758767Z",
     "shell.execute_reply": "2020-11-28T07:01:15.758008Z"
    },
    "papermill": {
     "duration": 0.300511,
     "end_time": "2020-11-28T07:01:15.758898",
     "exception": false,
     "start_time": "2020-11-28T07:01:15.458387",
     "status": "completed"
    },
    "tags": []
   },
   "outputs": [
    {
     "data": {
      "image/png": "[encoded data removed]",
      "text/plain": [
       "<Figure size 720x432 with 1 Axes>"
      ]
     },
     "metadata": {},
     "output_type": "display_data"
    }
   ],
   "source": [
    "plt.scatter(x=train['GarageArea'], y=np.log(train.SalePrice))\n",
    "plt.xlim(-200,1600) # This forces the same scale as before\n",
    "plt.ylabel('Sale Price')\n",
    "plt.xlabel('Garage Area')\n",
    "plt.show()"
   ]
  },
  {
   "cell_type": "markdown",
   "metadata": {
    "papermill": {
     "duration": 0.079195,
     "end_time": "2020-11-28T07:01:15.916844",
     "exception": false,
     "start_time": "2020-11-28T07:01:15.837649",
     "status": "completed"
    },
    "tags": []
   },
   "source": [
    "Handling Null Values"
   ]
  },
  {
   "cell_type": "code",
   "execution_count": 22,
   "metadata": {
    "execution": {
     "iopub.execute_input": "2020-11-28T07:01:16.084797Z",
     "iopub.status.busy": "2020-11-28T07:01:16.083635Z",
     "iopub.status.idle": "2020-11-28T07:01:16.994695Z",
     "shell.execute_reply": "2020-11-28T07:01:16.995369Z"
    },
    "papermill": {
     "duration": 1.001756,
     "end_time": "2020-11-28T07:01:16.995553",
     "exception": false,
     "start_time": "2020-11-28T07:01:15.993797",
     "status": "completed"
    },
    "tags": []
   },
   "outputs": [
    {
     "data": {
      "text/plain": [
       "<matplotlib.axes._subplots.AxesSubplot at 0x7ff4a42af2d0>"
      ]
     },
     "execution_count": 22,
     "metadata": {},
     "output_type": "execute_result"
    },
    {
     "data": {
      "image/png": "[encoded data removed]",
      "text/plain": [
       "<Figure size 720x432 with 2 Axes>"
      ]
     },
     "metadata": {},
     "output_type": "display_data"
    }
   ],
   "source": [
    "sns.heatmap(train.isnull(),cmap='Purples')"
   ]
  },
  {
   "cell_type": "code",
   "execution_count": 23,
   "metadata": {
    "execution": {
     "iopub.execute_input": "2020-11-28T07:01:17.172744Z",
     "iopub.status.busy": "2020-11-28T07:01:17.171870Z",
     "iopub.status.idle": "2020-11-28T07:01:17.185799Z",
     "shell.execute_reply": "2020-11-28T07:01:17.185144Z"
    },
    "papermill": {
     "duration": 0.109436,
     "end_time": "2020-11-28T07:01:17.185939",
     "exception": false,
     "start_time": "2020-11-28T07:01:17.076503",
     "status": "completed"
    },
    "tags": []
   },
   "outputs": [
    {
     "data": {
      "text/html": [
       "<div>\n",
       "<style scoped>\n",
       "    .dataframe tbody tr th:only-of-type {\n",
       "        vertical-align: middle;\n",
       "    }\n",
       "\n",
       "    .dataframe tbody tr th {\n",
       "        vertical-align: top;\n",
       "    }\n",
       "\n",
       "    .dataframe thead th {\n",
       "        text-align: right;\n",
       "    }\n",
       "</style>\n",
       "<table border=\"1\" class=\"dataframe\">\n",
       "  <thead>\n",
       "    <tr style=\"text-align: right;\">\n",
       "      <th></th>\n",
       "      <th>0</th>\n",
       "    </tr>\n",
       "  </thead>\n",
       "  <tbody>\n",
       "    <tr>\n",
       "      <th>PoolQC</th>\n",
       "      <td>1449</td>\n",
       "    </tr>\n",
       "    <tr>\n",
       "      <th>MiscFeature</th>\n",
       "      <td>1402</td>\n",
       "    </tr>\n",
       "    <tr>\n",
       "      <th>Alley</th>\n",
       "      <td>1364</td>\n",
       "    </tr>\n",
       "    <tr>\n",
       "      <th>Fence</th>\n",
       "      <td>1174</td>\n",
       "    </tr>\n",
       "    <tr>\n",
       "      <th>FireplaceQu</th>\n",
       "      <td>689</td>\n",
       "    </tr>\n",
       "    <tr>\n",
       "      <th>LotFrontage</th>\n",
       "      <td>258</td>\n",
       "    </tr>\n",
       "    <tr>\n",
       "      <th>GarageCond</th>\n",
       "      <td>81</td>\n",
       "    </tr>\n",
       "    <tr>\n",
       "      <th>GarageType</th>\n",
       "      <td>81</td>\n",
       "    </tr>\n",
       "    <tr>\n",
       "      <th>GarageYrBlt</th>\n",
       "      <td>81</td>\n",
       "    </tr>\n",
       "    <tr>\n",
       "      <th>GarageFinish</th>\n",
       "      <td>81</td>\n",
       "    </tr>\n",
       "    <tr>\n",
       "      <th>GarageQual</th>\n",
       "      <td>81</td>\n",
       "    </tr>\n",
       "    <tr>\n",
       "      <th>BsmtExposure</th>\n",
       "      <td>38</td>\n",
       "    </tr>\n",
       "    <tr>\n",
       "      <th>BsmtFinType2</th>\n",
       "      <td>38</td>\n",
       "    </tr>\n",
       "    <tr>\n",
       "      <th>BsmtFinType1</th>\n",
       "      <td>37</td>\n",
       "    </tr>\n",
       "    <tr>\n",
       "      <th>BsmtCond</th>\n",
       "      <td>37</td>\n",
       "    </tr>\n",
       "    <tr>\n",
       "      <th>BsmtQual</th>\n",
       "      <td>37</td>\n",
       "    </tr>\n",
       "    <tr>\n",
       "      <th>MasVnrArea</th>\n",
       "      <td>8</td>\n",
       "    </tr>\n",
       "    <tr>\n",
       "      <th>MasVnrType</th>\n",
       "      <td>8</td>\n",
       "    </tr>\n",
       "    <tr>\n",
       "      <th>Electrical</th>\n",
       "      <td>1</td>\n",
       "    </tr>\n",
       "    <tr>\n",
       "      <th>Utilities</th>\n",
       "      <td>0</td>\n",
       "    </tr>\n",
       "  </tbody>\n",
       "</table>\n",
       "</div>"
      ],
      "text/plain": [
       "                 0\n",
       "PoolQC        1449\n",
       "MiscFeature   1402\n",
       "Alley         1364\n",
       "Fence         1174\n",
       "FireplaceQu    689\n",
       "LotFrontage    258\n",
       "GarageCond      81\n",
       "GarageType      81\n",
       "GarageYrBlt     81\n",
       "GarageFinish    81\n",
       "GarageQual      81\n",
       "BsmtExposure    38\n",
       "BsmtFinType2    38\n",
       "BsmtFinType1    37\n",
       "BsmtCond        37\n",
       "BsmtQual        37\n",
       "MasVnrArea       8\n",
       "MasVnrType       8\n",
       "Electrical       1\n",
       "Utilities        0"
      ]
     },
     "execution_count": 23,
     "metadata": {},
     "output_type": "execute_result"
    }
   ],
   "source": [
    "nulls=pd.DataFrame(data=train.isnull().sum().sort_values(ascending=False)[:20])\n",
    "\n",
    "nulls"
   ]
  },
  {
   "cell_type": "markdown",
   "metadata": {
    "papermill": {
     "duration": 0.083025,
     "end_time": "2020-11-28T07:01:17.349148",
     "exception": false,
     "start_time": "2020-11-28T07:01:17.266123",
     "status": "completed"
    },
    "tags": []
   },
   "source": [
    "The documentation can help us understand the missing values. In the case of PoolQC, the column refers to Pool Quality. Pool quality is NaN when PoolArea is 0, or there is no pool.\n",
    "We can find a similar relationship between many of the Garage-related columns.\n",
    "\n",
    "Let’s take a look at one of the other columns, MiscFeature. We’ll use the Series.unique() method to return a list of the unique values."
   ]
  },
  {
   "cell_type": "code",
   "execution_count": 24,
   "metadata": {
    "execution": {
     "iopub.execute_input": "2020-11-28T07:01:17.521142Z",
     "iopub.status.busy": "2020-11-28T07:01:17.520269Z",
     "iopub.status.idle": "2020-11-28T07:01:17.524259Z",
     "shell.execute_reply": "2020-11-28T07:01:17.523515Z"
    },
    "papermill": {
     "duration": 0.09137,
     "end_time": "2020-11-28T07:01:17.524395",
     "exception": false,
     "start_time": "2020-11-28T07:01:17.433025",
     "status": "completed"
    },
    "tags": []
   },
   "outputs": [
    {
     "name": "stdout",
     "output_type": "stream",
     "text": [
      "Unique Values :  [nan 'Shed' 'Gar2' 'Othr' 'TenC']\n"
     ]
    }
   ],
   "source": [
    "print(\"Unique Values : \",train.MiscFeature.unique())"
   ]
  },
  {
   "cell_type": "markdown",
   "metadata": {
    "papermill": {
     "duration": 0.084495,
     "end_time": "2020-11-28T07:01:17.690960",
     "exception": false,
     "start_time": "2020-11-28T07:01:17.606465",
     "status": "completed"
    },
    "tags": []
   },
   "source": [
    "We can use the documentation to find out what these values indicate:\n",
    "\n",
    "MiscFeature: Miscellaneous feature not covered in other categories<br>\n",
    "\n",
    "<ul>\n",
    "   <li>Elev Elevator<br>\n",
    "   <li>Gar2 2nd Garage (if not described in garage section)<br>\n",
    "   <li>Othr Other<br>\n",
    "   <li>Shed Shed (over 100 SF)<br>\n",
    "   <li>TenC Tennis Court<br>\n",
    "   <li> NA   None<br>"
   ]
  },
  {
   "cell_type": "markdown",
   "metadata": {
    "papermill": {
     "duration": 0.083974,
     "end_time": "2020-11-28T07:01:17.860434",
     "exception": false,
     "start_time": "2020-11-28T07:01:17.776460",
     "status": "completed"
    },
    "tags": []
   },
   "source": [
    "These values describe whether or not the house has a shed over 100 sqft, a second garage, and so on. We might want to use this information later"
   ]
  },
  {
   "cell_type": "markdown",
   "metadata": {
    "papermill": {
     "duration": 0.08092,
     "end_time": "2020-11-28T07:01:18.026501",
     "exception": false,
     "start_time": "2020-11-28T07:01:17.945581",
     "status": "completed"
    },
    "tags": []
   },
   "source": [
    "Wrangling the non-numeric Features\n",
    "Let’s now consider the non-numeric features."
   ]
  },
  {
   "cell_type": "code",
   "execution_count": 25,
   "metadata": {
    "execution": {
     "iopub.execute_input": "2020-11-28T07:01:18.259096Z",
     "iopub.status.busy": "2020-11-28T07:01:18.242945Z",
     "iopub.status.idle": "2020-11-28T07:01:18.370468Z",
     "shell.execute_reply": "2020-11-28T07:01:18.369770Z"
    },
    "papermill": {
     "duration": 0.254642,
     "end_time": "2020-11-28T07:01:18.370607",
     "exception": false,
     "start_time": "2020-11-28T07:01:18.115965",
     "status": "completed"
    },
    "tags": []
   },
   "outputs": [
    {
     "data": {
      "text/html": [
       "<div>\n",
       "<style scoped>\n",
       "    .dataframe tbody tr th:only-of-type {\n",
       "        vertical-align: middle;\n",
       "    }\n",
       "\n",
       "    .dataframe tbody tr th {\n",
       "        vertical-align: top;\n",
       "    }\n",
       "\n",
       "    .dataframe thead th {\n",
       "        text-align: right;\n",
       "    }\n",
       "</style>\n",
       "<table border=\"1\" class=\"dataframe\">\n",
       "  <thead>\n",
       "    <tr style=\"text-align: right;\">\n",
       "      <th></th>\n",
       "      <th>MSZoning</th>\n",
       "      <th>Street</th>\n",
       "      <th>Alley</th>\n",
       "      <th>LotShape</th>\n",
       "      <th>LandContour</th>\n",
       "      <th>Utilities</th>\n",
       "      <th>LotConfig</th>\n",
       "      <th>LandSlope</th>\n",
       "      <th>Neighborhood</th>\n",
       "      <th>Condition1</th>\n",
       "      <th>...</th>\n",
       "      <th>GarageType</th>\n",
       "      <th>GarageFinish</th>\n",
       "      <th>GarageQual</th>\n",
       "      <th>GarageCond</th>\n",
       "      <th>PavedDrive</th>\n",
       "      <th>PoolQC</th>\n",
       "      <th>Fence</th>\n",
       "      <th>MiscFeature</th>\n",
       "      <th>SaleType</th>\n",
       "      <th>SaleCondition</th>\n",
       "    </tr>\n",
       "  </thead>\n",
       "  <tbody>\n",
       "    <tr>\n",
       "      <th>count</th>\n",
       "      <td>1455</td>\n",
       "      <td>1455</td>\n",
       "      <td>91</td>\n",
       "      <td>1455</td>\n",
       "      <td>1455</td>\n",
       "      <td>1455</td>\n",
       "      <td>1455</td>\n",
       "      <td>1455</td>\n",
       "      <td>1455</td>\n",
       "      <td>1455</td>\n",
       "      <td>...</td>\n",
       "      <td>1374</td>\n",
       "      <td>1374</td>\n",
       "      <td>1374</td>\n",
       "      <td>1374</td>\n",
       "      <td>1455</td>\n",
       "      <td>6</td>\n",
       "      <td>281</td>\n",
       "      <td>53</td>\n",
       "      <td>1455</td>\n",
       "      <td>1455</td>\n",
       "    </tr>\n",
       "    <tr>\n",
       "      <th>unique</th>\n",
       "      <td>5</td>\n",
       "      <td>2</td>\n",
       "      <td>2</td>\n",
       "      <td>4</td>\n",
       "      <td>4</td>\n",
       "      <td>2</td>\n",
       "      <td>5</td>\n",
       "      <td>3</td>\n",
       "      <td>25</td>\n",
       "      <td>9</td>\n",
       "      <td>...</td>\n",
       "      <td>6</td>\n",
       "      <td>3</td>\n",
       "      <td>5</td>\n",
       "      <td>5</td>\n",
       "      <td>3</td>\n",
       "      <td>3</td>\n",
       "      <td>4</td>\n",
       "      <td>4</td>\n",
       "      <td>9</td>\n",
       "      <td>6</td>\n",
       "    </tr>\n",
       "    <tr>\n",
       "      <th>top</th>\n",
       "      <td>RL</td>\n",
       "      <td>Pave</td>\n",
       "      <td>Grvl</td>\n",
       "      <td>Reg</td>\n",
       "      <td>Lvl</td>\n",
       "      <td>AllPub</td>\n",
       "      <td>Inside</td>\n",
       "      <td>Gtl</td>\n",
       "      <td>NAmes</td>\n",
       "      <td>Norm</td>\n",
       "      <td>...</td>\n",
       "      <td>Attchd</td>\n",
       "      <td>Unf</td>\n",
       "      <td>TA</td>\n",
       "      <td>TA</td>\n",
       "      <td>Y</td>\n",
       "      <td>Fa</td>\n",
       "      <td>MnPrv</td>\n",
       "      <td>Shed</td>\n",
       "      <td>WD</td>\n",
       "      <td>Normal</td>\n",
       "    </tr>\n",
       "    <tr>\n",
       "      <th>freq</th>\n",
       "      <td>1147</td>\n",
       "      <td>1450</td>\n",
       "      <td>50</td>\n",
       "      <td>921</td>\n",
       "      <td>1309</td>\n",
       "      <td>1454</td>\n",
       "      <td>1048</td>\n",
       "      <td>1378</td>\n",
       "      <td>225</td>\n",
       "      <td>1257</td>\n",
       "      <td>...</td>\n",
       "      <td>867</td>\n",
       "      <td>605</td>\n",
       "      <td>1306</td>\n",
       "      <td>1321</td>\n",
       "      <td>1335</td>\n",
       "      <td>2</td>\n",
       "      <td>157</td>\n",
       "      <td>48</td>\n",
       "      <td>1266</td>\n",
       "      <td>1196</td>\n",
       "    </tr>\n",
       "  </tbody>\n",
       "</table>\n",
       "<p>4 rows × 43 columns</p>\n",
       "</div>"
      ],
      "text/plain": [
       "       MSZoning Street Alley LotShape LandContour Utilities LotConfig  \\\n",
       "count      1455   1455    91     1455        1455      1455      1455   \n",
       "unique        5      2     2        4           4         2         5   \n",
       "top          RL   Pave  Grvl      Reg         Lvl    AllPub    Inside   \n",
       "freq       1147   1450    50      921        1309      1454      1048   \n",
       "\n",
       "       LandSlope Neighborhood Condition1  ... GarageType GarageFinish  \\\n",
       "count       1455         1455       1455  ...       1374         1374   \n",
       "unique         3           25          9  ...          6            3   \n",
       "top          Gtl        NAmes       Norm  ...     Attchd          Unf   \n",
       "freq        1378          225       1257  ...        867          605   \n",
       "\n",
       "       GarageQual GarageCond PavedDrive PoolQC  Fence MiscFeature SaleType  \\\n",
       "count        1374       1374       1455      6    281          53     1455   \n",
       "unique          5          5          3      3      4           4        9   \n",
       "top            TA         TA          Y     Fa  MnPrv        Shed       WD   \n",
       "freq         1306       1321       1335      2    157          48     1266   \n",
       "\n",
       "       SaleCondition  \n",
       "count           1455  \n",
       "unique             6  \n",
       "top           Normal  \n",
       "freq            1196  \n",
       "\n",
       "[4 rows x 43 columns]"
      ]
     },
     "execution_count": 25,
     "metadata": {},
     "output_type": "execute_result"
    }
   ],
   "source": [
    "categoricals = train.select_dtypes(exclude=[np.number])\n",
    "categoricals.describe()"
   ]
  },
  {
   "cell_type": "markdown",
   "metadata": {
    "papermill": {
     "duration": 0.086431,
     "end_time": "2020-11-28T07:01:18.544531",
     "exception": false,
     "start_time": "2020-11-28T07:01:18.458100",
     "status": "completed"
    },
    "tags": []
   },
   "source": [
    "The count column indicates the count of non-null observations, while unique counts the number of unique values. top is the most commonly occurring value, with the frequency of the top value shown by freq.\n",
    "\n",
    "For many of these features, we might want to use one-hot encoding to make use of the information for modeling.\n",
    "\n",
    "### Transforming and engineering features\n",
    "\n",
    "When transforming features, it’s important to remember that any transformations that you’ve applied to the training data before fitting the model must be applied to the test data.\n",
    "\n",
    "Our model expects that the shape of the features from the train set match those from the test set. This means that any feature engineering that occurred while working on the train data should be applied again on the test set.\n",
    "\n",
    "To demonstrate how this works, consider the Street data, which indicates whether there is Gravel or Paved road access to the property."
   ]
  },
  {
   "cell_type": "code",
   "execution_count": 26,
   "metadata": {
    "execution": {
     "iopub.execute_input": "2020-11-28T07:01:18.741239Z",
     "iopub.status.busy": "2020-11-28T07:01:18.740276Z",
     "iopub.status.idle": "2020-11-28T07:01:18.743934Z",
     "shell.execute_reply": "2020-11-28T07:01:18.744527Z"
    },
    "papermill": {
     "duration": 0.105156,
     "end_time": "2020-11-28T07:01:18.744691",
     "exception": false,
     "start_time": "2020-11-28T07:01:18.639535",
     "status": "completed"
    },
    "tags": []
   },
   "outputs": [
    {
     "name": "stdout",
     "output_type": "stream",
     "text": [
      "Original: \n",
      "\n",
      "Pave    1450\n",
      "Grvl       5\n",
      "Name: Street, dtype: int64 \n",
      "\n"
     ]
    }
   ],
   "source": [
    "print (\"Original: \\n\")\n",
    "print (train.Street.value_counts(), \"\\n\")"
   ]
  },
  {
   "cell_type": "markdown",
   "metadata": {
    "papermill": {
     "duration": 0.08725,
     "end_time": "2020-11-28T07:01:18.915022",
     "exception": false,
     "start_time": "2020-11-28T07:01:18.827772",
     "status": "completed"
    },
    "tags": []
   },
   "source": [
    "In the Street column, the unique values are Pave and Grvl, which describe the type of road access to the property. In the training set, only 5 homes have gravel access. Our model needs numerical data, so we will use one-hot encoding to transform the data into a Boolean column.\n",
    "\n",
    "We create a new column called enc_street. The pd.get_dummies() method will handle this for us.\n",
    "\n",
    "As mentioned earlier, we need to do this on both the train and test data."
   ]
  },
  {
   "cell_type": "code",
   "execution_count": 27,
   "metadata": {
    "execution": {
     "iopub.execute_input": "2020-11-28T07:01:19.109788Z",
     "iopub.status.busy": "2020-11-28T07:01:19.108957Z",
     "iopub.status.idle": "2020-11-28T07:01:19.116948Z",
     "shell.execute_reply": "2020-11-28T07:01:19.117539Z"
    },
    "papermill": {
     "duration": 0.10706,
     "end_time": "2020-11-28T07:01:19.117739",
     "exception": false,
     "start_time": "2020-11-28T07:01:19.010679",
     "status": "completed"
    },
    "tags": []
   },
   "outputs": [],
   "source": [
    "train['enc_street'] = pd.get_dummies(train.Street, drop_first=True)\n",
    "test['enc_street']=pd.get_dummies(train.Street,drop_first=True)"
   ]
  },
  {
   "cell_type": "code",
   "execution_count": 28,
   "metadata": {
    "execution": {
     "iopub.execute_input": "2020-11-28T07:01:19.301180Z",
     "iopub.status.busy": "2020-11-28T07:01:19.300335Z",
     "iopub.status.idle": "2020-11-28T07:01:19.308824Z",
     "shell.execute_reply": "2020-11-28T07:01:19.307841Z"
    },
    "papermill": {
     "duration": 0.103575,
     "end_time": "2020-11-28T07:01:19.308986",
     "exception": false,
     "start_time": "2020-11-28T07:01:19.205411",
     "status": "completed"
    },
    "tags": []
   },
   "outputs": [
    {
     "name": "stdout",
     "output_type": "stream",
     "text": [
      "1    1450\n",
      "0       5\n",
      "Name: enc_street, dtype: int64 \n",
      "\n"
     ]
    }
   ],
   "source": [
    "print(train.enc_street.value_counts(),'\\n')"
   ]
  },
  {
   "cell_type": "code",
   "execution_count": 29,
   "metadata": {
    "execution": {
     "iopub.execute_input": "2020-11-28T07:01:19.496850Z",
     "iopub.status.busy": "2020-11-28T07:01:19.495950Z",
     "iopub.status.idle": "2020-11-28T07:01:19.501218Z",
     "shell.execute_reply": "2020-11-28T07:01:19.500423Z"
    },
    "papermill": {
     "duration": 0.101535,
     "end_time": "2020-11-28T07:01:19.501393",
     "exception": false,
     "start_time": "2020-11-28T07:01:19.399858",
     "status": "completed"
    },
    "tags": []
   },
   "outputs": [
    {
     "data": {
      "text/plain": [
       "array(['Normal', 'Abnorml', 'Partial', 'AdjLand', 'Alloca', 'Family'],\n",
       "      dtype=object)"
      ]
     },
     "execution_count": 29,
     "metadata": {},
     "output_type": "execute_result"
    }
   ],
   "source": [
    "train.SaleCondition.unique()"
   ]
  },
  {
   "cell_type": "code",
   "execution_count": 30,
   "metadata": {
    "execution": {
     "iopub.execute_input": "2020-11-28T07:01:19.702546Z",
     "iopub.status.busy": "2020-11-28T07:01:19.701388Z",
     "iopub.status.idle": "2020-11-28T07:01:19.713821Z",
     "shell.execute_reply": "2020-11-28T07:01:19.712642Z"
    },
    "papermill": {
     "duration": 0.1228,
     "end_time": "2020-11-28T07:01:19.714014",
     "exception": false,
     "start_time": "2020-11-28T07:01:19.591214",
     "status": "completed"
    },
    "tags": []
   },
   "outputs": [],
   "source": [
    "condition_pivot=train.pivot_table(index='SaleCondition',values='SalePrice',aggfunc=np.median)"
   ]
  },
  {
   "cell_type": "code",
   "execution_count": 31,
   "metadata": {
    "execution": {
     "iopub.execute_input": "2020-11-28T07:01:19.933763Z",
     "iopub.status.busy": "2020-11-28T07:01:19.932971Z",
     "iopub.status.idle": "2020-11-28T07:01:20.136903Z",
     "shell.execute_reply": "2020-11-28T07:01:20.136126Z"
    },
    "papermill": {
     "duration": 0.317252,
     "end_time": "2020-11-28T07:01:20.137032",
     "exception": false,
     "start_time": "2020-11-28T07:01:19.819780",
     "status": "completed"
    },
    "tags": []
   },
   "outputs": [
    {
     "data": {
      "image/png": "[encoded data removed]",
      "text/plain": [
       "<Figure size 720x432 with 1 Axes>"
      ]
     },
     "metadata": {},
     "output_type": "display_data"
    }
   ],
   "source": [
    "condition_pivot.plot(kind='bar',color='blue')\n",
    "plt.xlabel('Sale Condition')\n",
    "plt.ylabel('Median Sale Price')\n",
    "plt.show()"
   ]
  },
  {
   "cell_type": "markdown",
   "metadata": {
    "papermill": {
     "duration": 0.093284,
     "end_time": "2020-11-28T07:01:20.326211",
     "exception": false,
     "start_time": "2020-11-28T07:01:20.232927",
     "status": "completed"
    },
    "tags": []
   },
   "source": [
    "Notice that Partial has a significantly higher Median Sale Price than the others. We will encode this as a new feature. We select all of the houses where SaleCondition is equal to Patrial and assign the value 1, otherwise assign 0"
   ]
  },
  {
   "cell_type": "code",
   "execution_count": 32,
   "metadata": {
    "execution": {
     "iopub.execute_input": "2020-11-28T07:01:20.517202Z",
     "iopub.status.busy": "2020-11-28T07:01:20.516374Z",
     "iopub.status.idle": "2020-11-28T07:01:20.519274Z",
     "shell.execute_reply": "2020-11-28T07:01:20.519881Z"
    },
    "papermill": {
     "duration": 0.104249,
     "end_time": "2020-11-28T07:01:20.520039",
     "exception": false,
     "start_time": "2020-11-28T07:01:20.415790",
     "status": "completed"
    },
    "tags": []
   },
   "outputs": [],
   "source": [
    "def encode(val):\n",
    "    if val == 'Partial': \n",
    "        return 1 \n",
    "    else : \n",
    "        return 0\n",
    "    \n",
    "train['enc_condition']=train.SaleCondition.apply(encode)\n",
    "test['enc_condition']=test.SaleCondition.apply(encode)    "
   ]
  },
  {
   "cell_type": "code",
   "execution_count": 33,
   "metadata": {
    "execution": {
     "iopub.execute_input": "2020-11-28T07:01:20.708012Z",
     "iopub.status.busy": "2020-11-28T07:01:20.707257Z",
     "iopub.status.idle": "2020-11-28T07:01:20.719477Z",
     "shell.execute_reply": "2020-11-28T07:01:20.718759Z"
    },
    "papermill": {
     "duration": 0.113467,
     "end_time": "2020-11-28T07:01:20.719636",
     "exception": false,
     "start_time": "2020-11-28T07:01:20.606169",
     "status": "completed"
    },
    "tags": []
   },
   "outputs": [],
   "source": [
    "condition_pivot=train.pivot_table(index='enc_condition',values='SalePrice',aggfunc=np.median)"
   ]
  },
  {
   "cell_type": "code",
   "execution_count": 34,
   "metadata": {
    "execution": {
     "iopub.execute_input": "2020-11-28T07:01:20.919531Z",
     "iopub.status.busy": "2020-11-28T07:01:20.912279Z",
     "iopub.status.idle": "2020-11-28T07:01:21.074352Z",
     "shell.execute_reply": "2020-11-28T07:01:21.073531Z"
    },
    "papermill": {
     "duration": 0.261265,
     "end_time": "2020-11-28T07:01:21.074493",
     "exception": false,
     "start_time": "2020-11-28T07:01:20.813228",
     "status": "completed"
    },
    "tags": []
   },
   "outputs": [
    {
     "data": {
      "image/png": "[encoded data removed]",
      "text/plain": [
       "<Figure size 720x432 with 1 Axes>"
      ]
     },
     "metadata": {},
     "output_type": "display_data"
    }
   ],
   "source": [
    "condition_pivot.plot(kind='bar',color='green')\n",
    "plt.xlabel('Sale Condition')\n",
    "plt.ylabel('Median Sale Price')\n",
    "plt.show()"
   ]
  },
  {
   "cell_type": "code",
   "execution_count": 35,
   "metadata": {
    "execution": {
     "iopub.execute_input": "2020-11-28T07:01:21.288132Z",
     "iopub.status.busy": "2020-11-28T07:01:21.278421Z",
     "iopub.status.idle": "2020-11-28T07:01:21.294430Z",
     "shell.execute_reply": "2020-11-28T07:01:21.293574Z"
    },
    "papermill": {
     "duration": 0.132205,
     "end_time": "2020-11-28T07:01:21.294570",
     "exception": false,
     "start_time": "2020-11-28T07:01:21.162365",
     "status": "completed"
    },
    "tags": []
   },
   "outputs": [
    {
     "data": {
      "text/html": [
       "<div>\n",
       "<style scoped>\n",
       "    .dataframe tbody tr th:only-of-type {\n",
       "        vertical-align: middle;\n",
       "    }\n",
       "\n",
       "    .dataframe tbody tr th {\n",
       "        vertical-align: top;\n",
       "    }\n",
       "\n",
       "    .dataframe thead th {\n",
       "        text-align: right;\n",
       "    }\n",
       "</style>\n",
       "<table border=\"1\" class=\"dataframe\">\n",
       "  <thead>\n",
       "    <tr style=\"text-align: right;\">\n",
       "      <th></th>\n",
       "      <th>Id</th>\n",
       "      <th>MSSubClass</th>\n",
       "      <th>MSZoning</th>\n",
       "      <th>LotFrontage</th>\n",
       "      <th>LotArea</th>\n",
       "      <th>Street</th>\n",
       "      <th>Alley</th>\n",
       "      <th>LotShape</th>\n",
       "      <th>LandContour</th>\n",
       "      <th>Utilities</th>\n",
       "      <th>...</th>\n",
       "      <th>Fence</th>\n",
       "      <th>MiscFeature</th>\n",
       "      <th>MiscVal</th>\n",
       "      <th>MoSold</th>\n",
       "      <th>YrSold</th>\n",
       "      <th>SaleType</th>\n",
       "      <th>SaleCondition</th>\n",
       "      <th>SalePrice</th>\n",
       "      <th>enc_street</th>\n",
       "      <th>enc_condition</th>\n",
       "    </tr>\n",
       "  </thead>\n",
       "  <tbody>\n",
       "    <tr>\n",
       "      <th>0</th>\n",
       "      <td>1</td>\n",
       "      <td>60</td>\n",
       "      <td>RL</td>\n",
       "      <td>65.0</td>\n",
       "      <td>8450</td>\n",
       "      <td>Pave</td>\n",
       "      <td>NaN</td>\n",
       "      <td>Reg</td>\n",
       "      <td>Lvl</td>\n",
       "      <td>AllPub</td>\n",
       "      <td>...</td>\n",
       "      <td>NaN</td>\n",
       "      <td>NaN</td>\n",
       "      <td>0</td>\n",
       "      <td>2</td>\n",
       "      <td>2008</td>\n",
       "      <td>WD</td>\n",
       "      <td>Normal</td>\n",
       "      <td>208500</td>\n",
       "      <td>1</td>\n",
       "      <td>0</td>\n",
       "    </tr>\n",
       "    <tr>\n",
       "      <th>1</th>\n",
       "      <td>2</td>\n",
       "      <td>20</td>\n",
       "      <td>RL</td>\n",
       "      <td>80.0</td>\n",
       "      <td>9600</td>\n",
       "      <td>Pave</td>\n",
       "      <td>NaN</td>\n",
       "      <td>Reg</td>\n",
       "      <td>Lvl</td>\n",
       "      <td>AllPub</td>\n",
       "      <td>...</td>\n",
       "      <td>NaN</td>\n",
       "      <td>NaN</td>\n",
       "      <td>0</td>\n",
       "      <td>5</td>\n",
       "      <td>2007</td>\n",
       "      <td>WD</td>\n",
       "      <td>Normal</td>\n",
       "      <td>181500</td>\n",
       "      <td>1</td>\n",
       "      <td>0</td>\n",
       "    </tr>\n",
       "    <tr>\n",
       "      <th>2</th>\n",
       "      <td>3</td>\n",
       "      <td>60</td>\n",
       "      <td>RL</td>\n",
       "      <td>68.0</td>\n",
       "      <td>11250</td>\n",
       "      <td>Pave</td>\n",
       "      <td>NaN</td>\n",
       "      <td>IR1</td>\n",
       "      <td>Lvl</td>\n",
       "      <td>AllPub</td>\n",
       "      <td>...</td>\n",
       "      <td>NaN</td>\n",
       "      <td>NaN</td>\n",
       "      <td>0</td>\n",
       "      <td>9</td>\n",
       "      <td>2008</td>\n",
       "      <td>WD</td>\n",
       "      <td>Normal</td>\n",
       "      <td>223500</td>\n",
       "      <td>1</td>\n",
       "      <td>0</td>\n",
       "    </tr>\n",
       "    <tr>\n",
       "      <th>3</th>\n",
       "      <td>4</td>\n",
       "      <td>70</td>\n",
       "      <td>RL</td>\n",
       "      <td>60.0</td>\n",
       "      <td>9550</td>\n",
       "      <td>Pave</td>\n",
       "      <td>NaN</td>\n",
       "      <td>IR1</td>\n",
       "      <td>Lvl</td>\n",
       "      <td>AllPub</td>\n",
       "      <td>...</td>\n",
       "      <td>NaN</td>\n",
       "      <td>NaN</td>\n",
       "      <td>0</td>\n",
       "      <td>2</td>\n",
       "      <td>2006</td>\n",
       "      <td>WD</td>\n",
       "      <td>Abnorml</td>\n",
       "      <td>140000</td>\n",
       "      <td>1</td>\n",
       "      <td>0</td>\n",
       "    </tr>\n",
       "    <tr>\n",
       "      <th>4</th>\n",
       "      <td>5</td>\n",
       "      <td>60</td>\n",
       "      <td>RL</td>\n",
       "      <td>84.0</td>\n",
       "      <td>14260</td>\n",
       "      <td>Pave</td>\n",
       "      <td>NaN</td>\n",
       "      <td>IR1</td>\n",
       "      <td>Lvl</td>\n",
       "      <td>AllPub</td>\n",
       "      <td>...</td>\n",
       "      <td>NaN</td>\n",
       "      <td>NaN</td>\n",
       "      <td>0</td>\n",
       "      <td>12</td>\n",
       "      <td>2008</td>\n",
       "      <td>WD</td>\n",
       "      <td>Normal</td>\n",
       "      <td>250000</td>\n",
       "      <td>1</td>\n",
       "      <td>0</td>\n",
       "    </tr>\n",
       "  </tbody>\n",
       "</table>\n",
       "<p>5 rows × 83 columns</p>\n",
       "</div>"
      ],
      "text/plain": [
       "   Id  MSSubClass MSZoning  LotFrontage  LotArea Street Alley LotShape  \\\n",
       "0   1          60       RL         65.0     8450   Pave   NaN      Reg   \n",
       "1   2          20       RL         80.0     9600   Pave   NaN      Reg   \n",
       "2   3          60       RL         68.0    11250   Pave   NaN      IR1   \n",
       "3   4          70       RL         60.0     9550   Pave   NaN      IR1   \n",
       "4   5          60       RL         84.0    14260   Pave   NaN      IR1   \n",
       "\n",
       "  LandContour Utilities  ... Fence MiscFeature MiscVal MoSold YrSold SaleType  \\\n",
       "0         Lvl    AllPub  ...   NaN         NaN       0      2   2008       WD   \n",
       "1         Lvl    AllPub  ...   NaN         NaN       0      5   2007       WD   \n",
       "2         Lvl    AllPub  ...   NaN         NaN       0      9   2008       WD   \n",
       "3         Lvl    AllPub  ...   NaN         NaN       0      2   2006       WD   \n",
       "4         Lvl    AllPub  ...   NaN         NaN       0     12   2008       WD   \n",
       "\n",
       "  SaleCondition  SalePrice  enc_street  enc_condition  \n",
       "0        Normal     208500           1              0  \n",
       "1        Normal     181500           1              0  \n",
       "2        Normal     223500           1              0  \n",
       "3       Abnorml     140000           1              0  \n",
       "4        Normal     250000           1              0  \n",
       "\n",
       "[5 rows x 83 columns]"
      ]
     },
     "execution_count": 35,
     "metadata": {},
     "output_type": "execute_result"
    }
   ],
   "source": [
    "train.head()"
   ]
  },
  {
   "cell_type": "markdown",
   "metadata": {
    "papermill": {
     "duration": 0.100964,
     "end_time": "2020-11-28T07:01:21.497195",
     "exception": false,
     "start_time": "2020-11-28T07:01:21.396231",
     "status": "completed"
    },
    "tags": []
   },
   "source": [
    "Before we prepare the data for modeling, we need to deal with the missing data. We’ll fill the missing values with an average value and then assign the results to data. This is a method of interpolation. The DataFrame.interpolate() method makes this simple.\n",
    "\n",
    "This is a quick and simple method of dealing with missing values, and might not lead to the best performance of the model on new data. Handling missing values is an important part of the modeling process, where creativity and insight can make a big difference."
   ]
  },
  {
   "cell_type": "code",
   "execution_count": 36,
   "metadata": {
    "execution": {
     "iopub.execute_input": "2020-11-28T07:01:21.713585Z",
     "iopub.status.busy": "2020-11-28T07:01:21.712639Z",
     "iopub.status.idle": "2020-11-28T07:01:21.723369Z",
     "shell.execute_reply": "2020-11-28T07:01:21.722639Z"
    },
    "papermill": {
     "duration": 0.126119,
     "end_time": "2020-11-28T07:01:21.723532",
     "exception": false,
     "start_time": "2020-11-28T07:01:21.597413",
     "status": "completed"
    },
    "tags": []
   },
   "outputs": [],
   "source": [
    "data = train.select_dtypes(include=[np.number]).interpolate().dropna()"
   ]
  },
  {
   "cell_type": "markdown",
   "metadata": {
    "papermill": {
     "duration": 0.101573,
     "end_time": "2020-11-28T07:01:21.931093",
     "exception": false,
     "start_time": "2020-11-28T07:01:21.829520",
     "status": "completed"
    },
    "tags": []
   },
   "source": [
    "Check if the all of the columns have 0 null values."
   ]
  },
  {
   "cell_type": "code",
   "execution_count": 37,
   "metadata": {
    "execution": {
     "iopub.execute_input": "2020-11-28T07:01:22.151443Z",
     "iopub.status.busy": "2020-11-28T07:01:22.149985Z",
     "iopub.status.idle": "2020-11-28T07:01:22.156494Z",
     "shell.execute_reply": "2020-11-28T07:01:22.155525Z"
    },
    "papermill": {
     "duration": 0.117787,
     "end_time": "2020-11-28T07:01:22.156675",
     "exception": false,
     "start_time": "2020-11-28T07:01:22.038888",
     "status": "completed"
    },
    "tags": []
   },
   "outputs": [
    {
     "data": {
      "text/plain": [
       "0"
      ]
     },
     "execution_count": 37,
     "metadata": {},
     "output_type": "execute_result"
    }
   ],
   "source": [
    "sum(data.isnull().sum() != 0)"
   ]
  },
  {
   "cell_type": "markdown",
   "metadata": {
    "papermill": {
     "duration": 0.09965,
     "end_time": "2020-11-28T07:01:22.359262",
     "exception": false,
     "start_time": "2020-11-28T07:01:22.259612",
     "status": "completed"
    },
    "tags": []
   },
   "source": [
    "### Build a linear model"
   ]
  },
  {
   "cell_type": "markdown",
   "metadata": {
    "papermill": {
     "duration": 0.096044,
     "end_time": "2020-11-28T07:01:22.555183",
     "exception": false,
     "start_time": "2020-11-28T07:01:22.459139",
     "status": "completed"
    },
    "tags": []
   },
   "source": [
    "We will seprate features and Target column to train the model \n",
    "\n",
    "We will assign the features to X and the target variable to y. We use np.log() to transform the y variable for the model.\n",
    "\n",
    "We won’t include SalePrice for obvious reasons, and Id is just an index with no relationship to SalePrice."
   ]
  },
  {
   "cell_type": "code",
   "execution_count": 38,
   "metadata": {
    "execution": {
     "iopub.execute_input": "2020-11-28T07:01:22.772674Z",
     "iopub.status.busy": "2020-11-28T07:01:22.769066Z",
     "iopub.status.idle": "2020-11-28T07:01:22.777176Z",
     "shell.execute_reply": "2020-11-28T07:01:22.776227Z"
    },
    "papermill": {
     "duration": 0.123376,
     "end_time": "2020-11-28T07:01:22.777362",
     "exception": false,
     "start_time": "2020-11-28T07:01:22.653986",
     "status": "completed"
    },
    "tags": []
   },
   "outputs": [],
   "source": [
    "y=np.log(train.SalePrice)\n",
    "X=data.drop(['SalePrice','Id'],axis=1)"
   ]
  },
  {
   "cell_type": "markdown",
   "metadata": {
    "papermill": {
     "duration": 0.098337,
     "end_time": "2020-11-28T07:01:22.969534",
     "exception": false,
     "start_time": "2020-11-28T07:01:22.871197",
     "status": "completed"
    },
    "tags": []
   },
   "source": [
    "We will use the train_test_split() function from scikit-learn to create a training set and a hold-out set."
   ]
  },
  {
   "cell_type": "code",
   "execution_count": 39,
   "metadata": {
    "execution": {
     "iopub.execute_input": "2020-11-28T07:01:23.161590Z",
     "iopub.status.busy": "2020-11-28T07:01:23.160759Z",
     "iopub.status.idle": "2020-11-28T07:01:23.358197Z",
     "shell.execute_reply": "2020-11-28T07:01:23.357265Z"
    },
    "papermill": {
     "duration": 0.297404,
     "end_time": "2020-11-28T07:01:23.358378",
     "exception": false,
     "start_time": "2020-11-28T07:01:23.060974",
     "status": "completed"
    },
    "tags": []
   },
   "outputs": [],
   "source": [
    "from sklearn.model_selection import train_test_split"
   ]
  },
  {
   "cell_type": "code",
   "execution_count": 40,
   "metadata": {
    "execution": {
     "iopub.execute_input": "2020-11-28T07:01:23.570623Z",
     "iopub.status.busy": "2020-11-28T07:01:23.569753Z",
     "iopub.status.idle": "2020-11-28T07:01:23.574051Z",
     "shell.execute_reply": "2020-11-28T07:01:23.573341Z"
    },
    "papermill": {
     "duration": 0.112279,
     "end_time": "2020-11-28T07:01:23.574239",
     "exception": false,
     "start_time": "2020-11-28T07:01:23.461960",
     "status": "completed"
    },
    "tags": []
   },
   "outputs": [],
   "source": [
    "X_train, X_test, y_train, y_test = train_test_split( X, y,test_size=.33)"
   ]
  },
  {
   "cell_type": "markdown",
   "metadata": {
    "papermill": {
     "duration": 0.105668,
     "end_time": "2020-11-28T07:01:23.777267",
     "exception": false,
     "start_time": "2020-11-28T07:01:23.671599",
     "status": "completed"
    },
    "tags": []
   },
   "source": [
    "We will first create a __Linear Regression model__."
   ]
  },
  {
   "cell_type": "code",
   "execution_count": 41,
   "metadata": {
    "execution": {
     "iopub.execute_input": "2020-11-28T07:01:23.987683Z",
     "iopub.status.busy": "2020-11-28T07:01:23.986870Z",
     "iopub.status.idle": "2020-11-28T07:01:24.128052Z",
     "shell.execute_reply": "2020-11-28T07:01:24.126977Z"
    },
    "papermill": {
     "duration": 0.252022,
     "end_time": "2020-11-28T07:01:24.128228",
     "exception": false,
     "start_time": "2020-11-28T07:01:23.876206",
     "status": "completed"
    },
    "tags": []
   },
   "outputs": [],
   "source": [
    "from sklearn import linear_model\n",
    "lr = linear_model.LinearRegression()"
   ]
  },
  {
   "cell_type": "markdown",
   "metadata": {
    "papermill": {
     "duration": 0.100206,
     "end_time": "2020-11-28T07:01:24.326849",
     "exception": false,
     "start_time": "2020-11-28T07:01:24.226643",
     "status": "completed"
    },
    "tags": []
   },
   "source": [
    "Next, we need to fit the model. First instantiate the model and next fit the model. Model fitting is a procedure that varies for different types of models. Put simply, we are estimating the relationship between our predictors and the target variable so we can make accurate predictions on new data.\n",
    "\n",
    "We fit the model using X_train and y_train, and we’ll score with X_test and y_test. The lr.fit() method will fit the linear regression on the features and target variable that we pass."
   ]
  },
  {
   "cell_type": "code",
   "execution_count": 42,
   "metadata": {
    "execution": {
     "iopub.execute_input": "2020-11-28T07:01:24.544135Z",
     "iopub.status.busy": "2020-11-28T07:01:24.543159Z",
     "iopub.status.idle": "2020-11-28T07:01:24.615200Z",
     "shell.execute_reply": "2020-11-28T07:01:24.615859Z"
    },
    "papermill": {
     "duration": 0.186502,
     "end_time": "2020-11-28T07:01:24.616030",
     "exception": false,
     "start_time": "2020-11-28T07:01:24.429528",
     "status": "completed"
    },
    "tags": []
   },
   "outputs": [],
   "source": [
    "model = lr.fit(X_train, y_train)"
   ]
  },
  {
   "cell_type": "markdown",
   "metadata": {
    "papermill": {
     "duration": 0.110291,
     "end_time": "2020-11-28T07:01:24.843839",
     "exception": false,
     "start_time": "2020-11-28T07:01:24.733548",
     "status": "completed"
    },
    "tags": []
   },
   "source": [
    "#### Evaluate the performance and visualize results\n",
    "\n",
    "Each competition might evaluate the submissions differently. In this competition, Kaggle will evaluate our submission using root-mean-squared-error (RMSE). We’ll also look at The r-squared value. The r-squared value is a measure of how close the data are to the fitted regression line. It takes a value between 0 and 1, 1 meaning that all of the variance in the target is explained by the data. In general, a higher r-squared value means a better fit.\n",
    "\n"
   ]
  },
  {
   "cell_type": "code",
   "execution_count": 43,
   "metadata": {
    "execution": {
     "iopub.execute_input": "2020-11-28T07:01:25.083618Z",
     "iopub.status.busy": "2020-11-28T07:01:25.082575Z",
     "iopub.status.idle": "2020-11-28T07:01:25.088932Z",
     "shell.execute_reply": "2020-11-28T07:01:25.091411Z"
    },
    "papermill": {
     "duration": 0.134321,
     "end_time": "2020-11-28T07:01:25.092180",
     "exception": false,
     "start_time": "2020-11-28T07:01:24.957859",
     "status": "completed"
    },
    "tags": []
   },
   "outputs": [
    {
     "name": "stdout",
     "output_type": "stream",
     "text": [
      "R^2 is: \n",
      " 0.8985663263009445\n"
     ]
    }
   ],
   "source": [
    "print (\"R^2 is: \\n\", model.score(X_test, y_test))"
   ]
  },
  {
   "cell_type": "markdown",
   "metadata": {
    "papermill": {
     "duration": 0.104002,
     "end_time": "2020-11-28T07:01:25.298251",
     "exception": false,
     "start_time": "2020-11-28T07:01:25.194249",
     "status": "completed"
    },
    "tags": []
   },
   "source": [
    "Next, we’ll consider rmse. To do so, use the model we have built to make predictions on the test data set.\n",
    "\n"
   ]
  },
  {
   "cell_type": "code",
   "execution_count": 44,
   "metadata": {
    "execution": {
     "iopub.execute_input": "2020-11-28T07:01:25.515846Z",
     "iopub.status.busy": "2020-11-28T07:01:25.514647Z",
     "iopub.status.idle": "2020-11-28T07:01:25.520353Z",
     "shell.execute_reply": "2020-11-28T07:01:25.519523Z"
    },
    "papermill": {
     "duration": 0.115979,
     "end_time": "2020-11-28T07:01:25.520491",
     "exception": false,
     "start_time": "2020-11-28T07:01:25.404512",
     "status": "completed"
    },
    "tags": []
   },
   "outputs": [],
   "source": [
    "predictions = model.predict(X_test)"
   ]
  },
  {
   "cell_type": "markdown",
   "metadata": {
    "papermill": {
     "duration": 0.100886,
     "end_time": "2020-11-28T07:01:25.723970",
     "exception": false,
     "start_time": "2020-11-28T07:01:25.623084",
     "status": "completed"
    },
    "tags": []
   },
   "source": [
    "Next, we’ll consider rmse. To do so, use the model we have built to make predictions on the test data set.\n",
    "\n"
   ]
  },
  {
   "cell_type": "code",
   "execution_count": 45,
   "metadata": {
    "execution": {
     "iopub.execute_input": "2020-11-28T07:01:25.937348Z",
     "iopub.status.busy": "2020-11-28T07:01:25.936228Z",
     "iopub.status.idle": "2020-11-28T07:01:25.945686Z",
     "shell.execute_reply": "2020-11-28T07:01:25.943143Z"
    },
    "papermill": {
     "duration": 0.121511,
     "end_time": "2020-11-28T07:01:25.945973",
     "exception": false,
     "start_time": "2020-11-28T07:01:25.824462",
     "status": "completed"
    },
    "tags": []
   },
   "outputs": [
    {
     "name": "stdout",
     "output_type": "stream",
     "text": [
      "RMSE is: \n",
      " 0.015603155524844864\n"
     ]
    }
   ],
   "source": [
    "from sklearn.metrics import mean_squared_error\n",
    "print ('RMSE is: \\n', mean_squared_error(y_test, predictions))"
   ]
  },
  {
   "cell_type": "markdown",
   "metadata": {
    "papermill": {
     "duration": 0.112138,
     "end_time": "2020-11-28T07:01:26.161424",
     "exception": false,
     "start_time": "2020-11-28T07:01:26.049286",
     "status": "completed"
    },
    "tags": []
   },
   "source": [
    "We can view this relationship graphically with a scatter plot."
   ]
  },
  {
   "cell_type": "code",
   "execution_count": 46,
   "metadata": {
    "execution": {
     "iopub.execute_input": "2020-11-28T07:01:26.384767Z",
     "iopub.status.busy": "2020-11-28T07:01:26.383551Z",
     "iopub.status.idle": "2020-11-28T07:01:26.601598Z",
     "shell.execute_reply": "2020-11-28T07:01:26.600918Z"
    },
    "papermill": {
     "duration": 0.339635,
     "end_time": "2020-11-28T07:01:26.601752",
     "exception": false,
     "start_time": "2020-11-28T07:01:26.262117",
     "status": "completed"
    },
    "tags": []
   },
   "outputs": [
    {
     "data": {
      "image/png": "[encoded data removed]",
      "text/plain": [
       "<Figure size 720x432 with 1 Axes>"
      ]
     },
     "metadata": {},
     "output_type": "display_data"
    }
   ],
   "source": [
    "actual_values = y_test\n",
    "plt.scatter(predictions, actual_values, alpha=.7,\n",
    "            color='b') #alpha helps to show overlapping data\n",
    "plt.xlabel('Predicted Price')\n",
    "plt.ylabel('Actual Price')\n",
    "plt.title('Linear Regression Model')\n",
    "plt.show()"
   ]
  }
 ],
 "metadata": {
  "kernelspec": {
   "display_name": "Python 3",
   "language": "python",
   "name": "python3"
  },
  "language_info": {
   "codemirror_mode": {
    "name": "ipython",
    "version": 3
   },
   "file_extension": ".py",
   "mimetype": "text/x-python",
   "name": "python",
   "nbconvert_exporter": "python",
   "pygments_lexer": "ipython3",
   "version": "3.8.6"
  },
  "papermill": {
   "duration": 29.136841,
   "end_time": "2020-11-28T07:01:29.094230",
   "environment_variables": {},
   "exception": null,
   "input_path": "__notebook__.ipynb",
   "output_path": "__notebook__.ipynb",
   "parameters": {},
   "start_time": "2020-11-28T07:00:59.957389",
   "version": "2.1.0"
  }
 },
 "nbformat": 4,
 "nbformat_minor": 4
}
